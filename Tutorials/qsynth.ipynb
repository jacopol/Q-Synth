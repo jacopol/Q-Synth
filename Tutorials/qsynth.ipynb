{
 "cells": [
  {
   "cell_type": "markdown",
   "id": "d6fe85e7",
   "metadata": {},
   "source": [
    "# Q-Synth API Tutorial\n",
    "\n",
    "This tutorial demonstrates the main features and usage of the Q-Synth API for optimal quantum circuit synthesis. \n",
    "\n",
    "We assume you have already installed the Q-Synth package. If not, Q-Synth can be installed using the following pip-command. You probably want to do that in your own virtual environment (with venv):\n",
    "\n",
    "```\n",
    "pip install Q-Synth\n",
    "```\n",
    "---"
   ]
  },
  {
   "cell_type": "markdown",
   "id": "283e0c63-4448-41f7-9fb2-082cebe80ac5",
   "metadata": {},
   "source": [
    "## Basic Input, Output, Arguments\n",
    "\n",
    "### Quantum Circuit\n",
    "Loading a quantum circuit from a file in OPENQASM 2.0 format:"
   ]
  },
  {
   "cell_type": "code",
   "execution_count": null,
   "id": "3b329639",
   "metadata": {},
   "outputs": [],
   "source": [
    "from qiskit import QuantumCircuit\n",
    "ecai24 = QuantumCircuit.from_qasm_file('ecai24.qasm')\n",
    "print(ecai24)"
   ]
  },
  {
   "cell_type": "markdown",
   "id": "864d430d",
   "metadata": {},
   "source": [
    "Creating a quantum circuit using Qiskit:"
   ]
  },
  {
   "cell_type": "code",
   "execution_count": null,
   "id": "805819cc-35b0-4aa7-a804-adb3cb4c437c",
   "metadata": {},
   "outputs": [],
   "source": [
    "from qiskit import QuantumCircuit\n",
    "def qc_example():\n",
    "    qc = QuantumCircuit(3)\n",
    "    qc.cx(0, 1)\n",
    "    qc.s(0)\n",
    "    qc.cx(0, 2)\n",
    "    qc.cx(1, 2)\n",
    "    return qc\n",
    "print(qc_example())"
   ]
  },
  {
   "cell_type": "markdown",
   "id": "d75e73e5",
   "metadata": {},
   "source": [
    "### Specifying a Quantum Platform\n",
    "\n",
    "For layout mapping and layout-aware synthesis, the coupling graph of the platform needs to be specified. It will be bi-directional by default. There are three methods:\n",
    "\n",
    "1. Specifying the coupling graph explicitly:"
   ]
  },
  {
   "cell_type": "code",
   "execution_count": null,
   "id": "d1c65d85",
   "metadata": {},
   "outputs": [],
   "source": [
    "from qsynth import get_coupling_graph\n",
    "# Custom coupling graph\n",
    "coupling_graph = get_coupling_graph(coupling_graph=[[0,1],[1,2]], bidirectional=1)\n",
    "print(coupling_graph)"
   ]
  },
  {
   "cell_type": "markdown",
   "id": "ac3cc4e2",
   "metadata": {},
   "source": [
    "2. Specifying a predefined platforms (e.g., 'tenerife', 'melbourne', 'sycamore', 'rigetti-80', 'eagle')"
   ]
  },
  {
   "cell_type": "code",
   "execution_count": null,
   "id": "a0474ddb",
   "metadata": {},
   "outputs": [],
   "source": [
    "# Predefined platform example (e.g., 'tenerife')\n",
    "tenerife = get_coupling_graph(platform='tenerife')\n",
    "print(tenerife)"
   ]
  },
  {
   "cell_type": "markdown",
   "id": "3b4eaebd",
   "metadata": {},
   "source": [
    "3. Generating an instance of a scalable platform (e.g. line-N, cycle-N, grid-N)"
   ]
  },
  {
   "cell_type": "code",
   "execution_count": null,
   "id": "59b67f97",
   "metadata": {},
   "outputs": [],
   "source": [
    "# Scalable platform example (e.g., 'line-4' for nearest neighbor line of 4 qubits)\n",
    "line4 = get_coupling_graph(platform='line-4')\n",
    "print(line4)"
   ]
  },
  {
   "cell_type": "markdown",
   "id": "31b6d8b6",
   "metadata": {},
   "source": [
    "### Understanding Q-Synth output: MappedResult\n",
    "The output of Q-Synth synthesis functions is a `MappedResult` object containing:\n",
    "- `circuit`: the mapped/optimized quantum circuit\n",
    "- `initial_mapping`: the initial mapping of qubits\n",
    "- `final_mapping`: the final mapping of qubits after synthesis"
   ]
  },
  {
   "cell_type": "code",
   "execution_count": null,
   "id": "f230c1fe",
   "metadata": {},
   "outputs": [],
   "source": [
    "from qsynth import layout_synthesis\n",
    "qc = qc_example()\n",
    "result = layout_synthesis(circuit=qc, coupling_graph=line4, verbose=-1)\n",
    "print('Mapped circuit:')\n",
    "print(result.circuit)\n",
    "print('Initial mapping:', result.initial_mapping)\n",
    "print('Final mapping:', result.final_mapping)"
   ]
  },
  {
   "cell_type": "markdown",
   "id": "ee43d701",
   "metadata": {},
   "source": [
    "### Optimization metrics\n",
    "Q-Synth supports several optimization metrics:\n",
    "- CNOT count (`cx-count`) : Computes optimal Number of CNOT gates\n",
    "- CNOT depth (`cx-depth`) : Computes optimal CNOT depth\n",
    "- CNOT count + CNOT depth (`cx-count_cx-depth`) : First computes optimal CNOT count and then optimizes CNOT depth without increasing CNOT count.\n",
    "- CNOT depth + CNOT count (`cx-depth_cx-count`) : First computes optimal CNOT depth and then optimizes CNOT count without increasing CNOT depth."
   ]
  },
  {
   "cell_type": "markdown",
   "id": "cf91aa02",
   "metadata": {},
   "source": [
    "## Layout Synthesis\n",
    "\n",
    "### Minimal example:"
   ]
  },
  {
   "cell_type": "code",
   "execution_count": null,
   "id": "eb98584c",
   "metadata": {},
   "outputs": [],
   "source": [
    "# Minimal layout synthesis example\n",
    "from qsynth import layout_synthesis, get_coupling_graph\n",
    "from qiskit import QuantumCircuit\n",
    "qc = qc_example()\n",
    "coupling_graph = get_coupling_graph(coupling_graph=[[0,1],[1,2]], bidirectional=1)\n",
    "result = layout_synthesis(circuit=qc, coupling_graph=coupling_graph, metric='cx-count', verbose=-1)\n",
    "print('Mapped circuit:')\n",
    "print(result.circuit)\n",
    "print('Initial mapping:', result.initial_mapping)\n",
    "print('Final mapping:', result.final_mapping)"
   ]
  },
  {
   "cell_type": "markdown",
   "id": "35d7d751",
   "metadata": {},
   "source": [
    "### Using subarchitectures for large platforms:"
   ]
  },
  {
   "cell_type": "markdown",
   "id": "ffa99848",
   "metadata": {},
   "source": [
    "When mapping to large platforms, we can use subarchitectures.  \n",
    "By default, Q-Synth maps to all maximal subarchitectures with 0 ancillas.  \n",
    "Note that we write the resulting circuit to a file.\n"
   ]
  },
  {
   "cell_type": "code",
   "execution_count": null,
   "id": "eaf3a704",
   "metadata": {},
   "outputs": [],
   "source": [
    "from qsynth import layout_synthesis, get_coupling_graph\n",
    "from qiskit import QuantumCircuit, qasm2\n",
    "\n",
    "barenco = QuantumCircuit.from_qasm_file('barenco_tof_3.qasm')\n",
    "sycamore = get_coupling_graph(platform='sycamore')\n",
    "result = layout_synthesis(circuit=barenco, coupling_graph=sycamore, metric='cx-count', subarchitecture=True, verbose=0)\n",
    "qasm2.dump(result.circuit, \"mapped_barenco_tof_3.qasm\")"
   ]
  },
  {
   "cell_type": "markdown",
   "id": "daadb879",
   "metadata": {},
   "source": [
    "We can also specify the number of ancillas to use with subarchitectures:"
   ]
  },
  {
   "cell_type": "code",
   "execution_count": null,
   "id": "5bafbfff",
   "metadata": {},
   "outputs": [],
   "source": [
    "result = layout_synthesis(circuit=barenco, coupling_graph=sycamore, metric='cx-count', subarchitecture=True, num_ancillary_qubits=1)"
   ]
  },
  {
   "cell_type": "markdown",
   "id": "2a90a405",
   "metadata": {},
   "source": [
    "### Optimal layout synthesis for a given initial mapping\n",
    "\n",
    "You can provide Q-Synth with an initial mapping, for instance one computed using Qiskit's SABRE heuristics. \n",
    "Q-Synth will then compute the minimally mapped layout for that initial mapping."
   ]
  },
  {
   "cell_type": "code",
   "execution_count": null,
   "id": "09ca84aa",
   "metadata": {},
   "outputs": [],
   "source": [
    "# Example: Using Qiskit for initial mapping, then Q-Synth for optimal synthesis from that mapping\n",
    "from qiskit import QuantumCircuit\n",
    "from qiskit.transpiler import CouplingMap, PassManager\n",
    "from qiskit.transpiler.passes import SabreLayout\n",
    "vqe = QuantumCircuit.from_qasm_file('vqe_8_3_5_100.qasm')\n",
    "sycamore = get_coupling_graph(platform='sycamore')\n",
    "layout_pass = SabreLayout(CouplingMap(sycamore), seed=1)\n",
    "mapped_vqe = PassManager(layout_pass).run(vqe)\n",
    "print(\"Qiskit SabreLayout mapped circuit counts:\", mapped_vqe.count_ops())\n",
    "initial_layout = dict(enumerate(mapped_vqe.layout.initial_index_layout(filter_ancillas=True)))\n",
    "print('Initial layout from Qiskit SabreLayout:', initial_layout)\n",
    "result = layout_synthesis(circuit=vqe, coupling_graph=sycamore, metric='cx-count', initial_mapping=initial_layout, verbose=0)\n",
    "print(\"Q-Synth mapped circuit counts:\", result.circuit.count_ops())\n",
    "print('Initial Mapping:', result.initial_mapping)\n",
    "print('Final mapping:', result.final_mapping)\n"
   ]
  },
  {
   "cell_type": "markdown",
   "id": "3df33f13",
   "metadata": {},
   "source": [
    "Using Q-Synth for the initial mapping computed by SabreLayout gives reduces the number of swaps from 9 to 8 (optimal for this initial mapping)"
   ]
  },
  {
   "cell_type": "markdown",
   "id": "693b8648",
   "metadata": {},
   "source": []
  },
  {
   "cell_type": "markdown",
   "id": "84122186",
   "metadata": {},
   "source": [
    "## CNOT Synthesis\n",
    "\n",
    "CNOT synthesis applies to pure CNOT circuits, but can be applied to CNOT slices as well (see Peephole synthesis below).\n",
    "Here we optimize for `cx-count`, but other metrics are supported as well.\n",
    "\n",
    "We now explain the four basic variants: S, W, S+R, W+R. Note that\n",
    "We will illustrate them on this example from the ECAI 2024-paper:"
   ]
  },
  {
   "cell_type": "code",
   "execution_count": null,
   "id": "0416e901",
   "metadata": {},
   "outputs": [],
   "source": [
    "from qiskit import QuantumCircuit\n",
    "qc = QuantumCircuit.from_qasm_file('ecai24.qasm')\n",
    "print('Original circuit:')\n",
    "print(qc)"
   ]
  },
  {
   "cell_type": "markdown",
   "id": "840f41fc",
   "metadata": {},
   "source": [
    "### Pure CNOT synthesis\n",
    "\n",
    "1. Minimal example (S): strict equality, no layout restrictions"
   ]
  },
  {
   "cell_type": "code",
   "execution_count": null,
   "id": "41071534",
   "metadata": {},
   "outputs": [],
   "source": [
    "# Minimal CNOT synthesis example (S)\n",
    "from qsynth import cnot_synthesis\n",
    "result = cnot_synthesis(circuit=qc, metric='cx-count', verbose=-1)\n",
    "print('Optimized circuit:')\n",
    "print(result.circuit)"
   ]
  },
  {
   "cell_type": "markdown",
   "id": "bfd4efe6",
   "metadata": {},
   "source": [
    "2. Allowing output qubit permutation (W): weak equality, no layout restrictions\n",
    "\n",
    "    The result can be further reduced by allowing a permutation on the output qubits:"
   ]
  },
  {
   "cell_type": "code",
   "execution_count": null,
   "id": "3350a6c9",
   "metadata": {},
   "outputs": [],
   "source": [
    "# CNOT synthesis with output qubit permutation (W)\n",
    "from qsynth import cnot_synthesis\n",
    "result = cnot_synthesis(circuit=qc, metric='cx-count', output_qubit_permute=True, verbose=-1)\n",
    "print('Optimized circuit:')\n",
    "print(result.circuit)\n",
    "print('Final mapping:', result.final_mapping)"
   ]
  },
  {
   "cell_type": "markdown",
   "id": "535706d4",
   "metadata": {},
   "source": [
    "### Layout-aware CNOT synthesis\n",
    "\n",
    "3. Layout aware synthesis (S+R): strict equality, layout restrictions\n",
    "\n",
    "    Layout restrictions can be specified by just providing a `coupling_graph`.\n",
    "    Here we define the nearest neighbour platform on 4 qubits as `line-4`."
   ]
  },
  {
   "cell_type": "code",
   "execution_count": null,
   "id": "6a1c4ad6",
   "metadata": {},
   "outputs": [],
   "source": [
    "# Layout aware CNOT synthesis (S+R)\n",
    "from qsynth import cnot_synthesis, get_coupling_graph\n",
    "coupling_graph = get_coupling_graph(platform=\"line-4\", bidirectional=1)\n",
    "print(\"Coupling graph: \", coupling_graph)\n",
    "result = cnot_synthesis(circuit=qc, metric='cx-count', coupling_graph=coupling_graph, verbose=-1)\n",
    "print('Optimized circuit:')\n",
    "print(result.circuit)"
   ]
  },
  {
   "cell_type": "markdown",
   "id": "ba6bebee",
   "metadata": {},
   "source": [
    "4. Layout aware with output qubit permutation (W+R): weak equivalence, with layout restrictions\n",
    "\n",
    "    Again, the result can be reduced by allowing a permutation on the output qubits."
   ]
  },
  {
   "cell_type": "code",
   "execution_count": null,
   "id": "bd06086d",
   "metadata": {},
   "outputs": [],
   "source": [
    "# Layout aware CNOT synthesis with output qubit permutation (W+R)\n",
    "from qsynth import cnot_synthesis, get_coupling_graph\n",
    "\n",
    "result = cnot_synthesis(circuit=qc, metric='cx-count', coupling_graph=coupling_graph, output_qubit_permute=True, verbose=-1)\n",
    "print('Optimized circuit:')\n",
    "print(result.circuit)\n",
    "print('Final mapping:', result.final_mapping)"
   ]
  },
  {
   "cell_type": "markdown",
   "id": "7ae8cebf",
   "metadata": {},
   "source": [
    "## Clifford Synthesis\n",
    "\n",
    "Clifford Synthesis can be applied to pure Clifford circuits, recognizing e.g. gates X, Y, Z, H, S, CX, CZ.  \n",
    "(See also Peephole synthesis for Clifford slices below)."
   ]
  },
  {
   "cell_type": "code",
   "execution_count": null,
   "id": "06a38b6a",
   "metadata": {},
   "outputs": [],
   "source": [
    "# Example Clifford Circuit\n",
    "from qiskit import QuantumCircuit\n",
    "clifford = QuantumCircuit.from_qasm_file('04q_33936_clifford.qasm')\n",
    "print('Original circuit:')\n",
    "print(clifford.draw(\"text\", fold=-1))\n"
   ]
  },
  {
   "cell_type": "markdown",
   "id": "f169745e",
   "metadata": {},
   "source": [
    "Q-Synth can optimize Clifford circuits for `cx_count` and `cx_depth` and other metrics.  \n",
    "Here we illustrate `cx-depth` and `cx-depth_cx-count` metrics.  \n",
    "We support three variants: S, W, S+R.\n",
    "\n",
    "1. Minimal example (S): strict equivalence, no layout restrictions  \n",
    "    (minimizing for `cx-depth`)"
   ]
  },
  {
   "cell_type": "code",
   "execution_count": null,
   "id": "14620012",
   "metadata": {},
   "outputs": [],
   "source": [
    "# Minimal Clifford synthesis example (S)\n",
    "from qsynth import clifford_synthesis\n",
    "result = clifford_synthesis(circuit=clifford, metric='cx-depth', verbose=-1)\n",
    "print('Optimized circuit:')\n",
    "print(result.circuit.draw(\"text\", fold=-1))"
   ]
  },
  {
   "cell_type": "markdown",
   "id": "6a6a94af",
   "metadata": {},
   "source": [
    "This CNOT-depth optimization has reduced `cx-depth` from 7 to 4 and `cx-count`from 8 to 7.  \n",
    "To further optimize the `cx-count` without increasing `cx-depth`, we can use the `cx-depth_cx-count` metric:"
   ]
  },
  {
   "cell_type": "code",
   "execution_count": null,
   "id": "cf03047b",
   "metadata": {},
   "outputs": [],
   "source": [
    "# Clifford synthesis example (S) with combined metric\n",
    "from qsynth import clifford_synthesis\n",
    "result = clifford_synthesis(circuit=clifford, metric='cx-depth_cx-count', verbose=-1)\n",
    "print('Optimized circuit:')\n",
    "print(result.circuit.draw(\"text\", fold=-1))"
   ]
  },
  {
   "cell_type": "markdown",
   "id": "fa4679e9",
   "metadata": {},
   "source": [
    "Note that the `cx-depth` is still 4 but the `cx-count` has been further reduced from 7 to 6."
   ]
  },
  {
   "cell_type": "markdown",
   "id": "3c003463",
   "metadata": {},
   "source": [
    "2. Allowing output qubit permutation (W): weak equivalence"
   ]
  },
  {
   "cell_type": "code",
   "execution_count": null,
   "id": "8c208414",
   "metadata": {},
   "outputs": [],
   "source": [
    "result = clifford_synthesis(circuit=clifford, metric='cx-depth_cx-count', output_qubit_permute=True, verbose=-1)\n",
    "print('Optimized circuit:')\n",
    "print(result.circuit.draw(\"text\", fold=-1))\n",
    "print('Final mapping:', result.final_mapping)"
   ]
  },
  {
   "cell_type": "markdown",
   "id": "78fa83fd",
   "metadata": {},
   "source": [
    "With output qubit permutations, we can reduce this even further to `cx-depth`=3 and `cx-count`=5."
   ]
  },
  {
   "cell_type": "markdown",
   "id": "c52451fd",
   "metadata": {},
   "source": [
    "3. Layout aware synthesis (S+R): strict equivalence, with layout restrictions"
   ]
  },
  {
   "cell_type": "code",
   "execution_count": null,
   "id": "5be3e938",
   "metadata": {},
   "outputs": [],
   "source": [
    "from qsynth import get_coupling_graph\n",
    "coupling_graph = get_coupling_graph(platform=\"line-4\", bidirectional=1)\n",
    "result = clifford_synthesis(circuit=clifford, metric='cx-count', coupling_graph=coupling_graph, verbose=0)\n",
    "print('Optimized circuit:')\n",
    "print(result.circuit.draw(\"text\", fold=-1))"
   ]
  },
  {
   "cell_type": "markdown",
   "id": "900af68e",
   "metadata": {},
   "source": [
    "Now we need 8 CNOTs due to the layout restrictions."
   ]
  },
  {
   "cell_type": "markdown",
   "id": "aa0995df",
   "metadata": {},
   "source": [
    "## Peephole Synthesis\n",
    "\n",
    "Q-Synth can also be used to resynthesize general quantum circuits by slicing them into Clifford or CNOT slices, and resynthesizing each slice optimally.  "
   ]
  },
  {
   "cell_type": "code",
   "execution_count": null,
   "id": "49c37133",
   "metadata": {},
   "outputs": [],
   "source": [
    "from qsynth import peephole_synthesis\n",
    "from qiskit import QuantumCircuit\n",
    "print('Original circuit:')\n",
    "qc = qc_example()\n",
    "print(qc)"
   ]
  },
  {
   "cell_type": "markdown",
   "id": "1c6342fb",
   "metadata": {},
   "source": [
    "### CNOT slicing \n",
    "\n",
    "Note that the circuit above has 2 CNOT slices, which cannot be optimized:"
   ]
  },
  {
   "cell_type": "code",
   "execution_count": null,
   "id": "ff263054",
   "metadata": {},
   "outputs": [],
   "source": [
    "result = peephole_synthesis(circuit=qc, slicing='cnot', metric='cx-count', verbose=-1)\n",
    "print('Optimized circuit:')\n",
    "print(result.circuit)"
   ]
  },
  {
   "cell_type": "markdown",
   "id": "b77172f9",
   "metadata": {},
   "source": [
    "### Clifford slicing \n",
    "\n",
    "Note, the circuit above has a single Clifford slice, so now there is some room for optimization:"
   ]
  },
  {
   "cell_type": "code",
   "execution_count": null,
   "id": "f6f16ab7",
   "metadata": {},
   "outputs": [],
   "source": [
    "result = peephole_synthesis(circuit=qc, slicing='clifford', metric='cx-count', verbose=0)\n",
    "print('Optimized circuit:')\n",
    "print(result.circuit)"
   ]
  },
  {
   "cell_type": "markdown",
   "id": "1ff83963",
   "metadata": {},
   "source": [
    "### Resynthesizing general quantum circuits\n",
    "  \n",
    "We now illustrate the re-synthesis of a non-Clifford quantum circuit consisting of multiple slices, without layout restrictions:"
   ]
  },
  {
   "cell_type": "code",
   "execution_count": null,
   "id": "6c6a0ba6",
   "metadata": {},
   "outputs": [],
   "source": [
    "barenco = QuantumCircuit.from_qasm_file('barenco_tof_3.qasm')\n",
    "result = peephole_synthesis(circuit=barenco, slicing='clifford', metric='cx-count', verbose=0)"
   ]
  },
  {
   "cell_type": "markdown",
   "id": "7a77472c",
   "metadata": {},
   "source": [
    "For layout-aware Peephole Resynthesis, we expect the input circuit to be already layout mapped.\n",
    "If it is not layout mapped, one could either use Q-Synth or Qiskit to first perform layout mapping and then do peephole re-synthesis.\n",
    "\n",
    "Here is an example of layout-aware peephole synthesis:"
   ]
  },
  {
   "cell_type": "code",
   "execution_count": null,
   "id": "728bac67",
   "metadata": {},
   "outputs": [],
   "source": [
    "melbourne = get_coupling_graph(platform=\"melbourne\")\n",
    "mapped_result = layout_synthesis(circuit=barenco, coupling_graph=melbourne, metric='cx-count', verbose=0)\n",
    "resynthesized_result = peephole_synthesis(circuit=mapped_result.circuit, slicing='clifford', metric='cx-count', coupling_graph=melbourne, verbose=0)"
   ]
  },
  {
   "cell_type": "markdown",
   "id": "6cd4350e",
   "metadata": {},
   "source": [
    "Optimal layout synthesis adds 7 swaps, resulting in total 45 CNOTs.\n",
    "Applying layout-aware peephole Resynthesis reduces the cx-count 45 -> 42 and cx-depth 43 -> 39."
   ]
  }
 ],
 "metadata": {
  "kernelspec": {
   "display_name": "QSynth-venv",
   "language": "python",
   "name": "python3"
  },
  "language_info": {
   "codemirror_mode": {
    "name": "ipython",
    "version": 3
   },
   "file_extension": ".py",
   "mimetype": "text/x-python",
   "name": "python",
   "nbconvert_exporter": "python",
   "pygments_lexer": "ipython3",
   "version": "3.12.3"
  }
 },
 "nbformat": 4,
 "nbformat_minor": 5
}
